{
 "cells": [
  {
   "cell_type": "code",
   "execution_count": 1,
   "metadata": {
    "collapsed": true
   },
   "outputs": [],
   "source": [
    "import pylab, math, random\n",
    "import numpy as np\n",
    "import pandas as pd\n",
    "import matplotlib.pyplot as plt\n",
    "\n",
    "plt.style.use('ggplot')\n",
    "%matplotlib inline"
   ]
  },
  {
   "cell_type": "markdown",
   "metadata": {},
   "source": [
    "**Stationary entropy**\n",
    "\n",
    "Stationary gaze entropy estimates uncertainty in overall spatial dispersion of fixations across a visual scene."
   ]
  },
  {
   "cell_type": "code",
   "execution_count": 5,
   "metadata": {
    "collapsed": false
   },
   "outputs": [
    {
     "name": "stdout",
     "output_type": "stream",
     "text": [
      "State Spaces = 5.0 * 5.0 = 25.0 \n",
      "Maximum H = 4.643856189774724 \n",
      "Observed H = 3.0253029419294886 \n",
      "Normalised by Hmax = 0.6514635290797511\n"
     ]
    },
    {
     "data": {
      "image/png": "[encoded data removed]",
      "text/plain": [
       "<matplotlib.figure.Figure at 0x11056ae10>"
      ]
     },
     "metadata": {},
     "output_type": "display_data"
    }
   ],
   "source": [
    "# generate simulation of fixations with pseudo-gaussian distribution for simplicity and calculate entropy\n",
    "# to see how it varies with number of fixations, their distribution and number of discrete state spaces generated\n",
    "\n",
    "random.seed(99999) #set seed for reproducibility\n",
    "\n",
    "N = 80 #observed number of fixations (adjust to increase/reduce number of fixations)\n",
    "minn = 500 #limit for gaussian - just to make ploting easier\n",
    "maxn = 0 #limit for gaussian\n",
    "mean = minn/2\n",
    "sd = 65\n",
    "\n",
    "#pseudo-gaussian distribution due to the minn maxn parameters set\n",
    "x = [min(minn, max(maxn, random.gauss(mean, sd))) for i in range(N)]\n",
    "y = [min(minn, max(maxn, random.gauss(mean, sd))) for i in range(N)]\n",
    "xy = np.vstack((x,y))\n",
    "s = minn #state spaces (maximum coordinate value)\n",
    "sby = 100 #interval for state space division(adjust to increase/reduce number of state spaces generated)\n",
    "\n",
    "#create dataframe with fixation coordinates and state spaces (i.e. x_range)\n",
    "xydf=pd.DataFrame(xy.reshape(N,2), index = np.arange(N), columns=('x','y'))\n",
    "xydf['x_range'] = pd.cut(xydf.x, np.arange(0, s, sby), right=False)\n",
    "xydf['y_range'] = pd.cut(xydf.y, np.arange(0, s, sby), right=False)\n",
    "\n",
    "#plot the coordinates and set grid limit according to the state spaces generated\n",
    "plt.scatter(xydf.x, xydf.y, marker='x', c='red')\n",
    "plt.axis([0, s, 0, s])\n",
    "plt.xticks((np.arange(0, s, sby)))\n",
    "plt.yticks((np.arange(0, s, sby)))\n",
    "\n",
    "#generate probablity distributions for each state space to calculate entropy\n",
    "xydf=xydf.groupby(['x_range','y_range']).size().reset_index().rename(columns={0:'count'})\n",
    "xydf['p']=xydf['count']/xydf['count'].sum()\n",
    "\n",
    "#multiply each p by its log\n",
    "p_by_log = list()\n",
    "for i in np.array(xydf['p']):\n",
    "    p_by_log.append(math.log2(i)*i)\n",
    "xydf['p*log(p)']= p_by_log\n",
    "\n",
    "#list the number of state spaces, maximum entropy, observed entropy and normalised entropy\n",
    "#NOTE: coordinates outside the defined state spaces are not included in the entropy calculation\n",
    "print('State Spaces =',s/sby, '*', s/sby, '=', s/sby*s/sby, '\\n'\n",
    "    'Maximum H =' ,math.log2(s/sby*s/sby), '\\n'\n",
    "    'Observed H =' ,abs(xydf['p*log(p)'].sum()), '\\n'\n",
    "    'Normalised by Hmax =' ,abs(xydf['p*log(p)'].sum()/math.log2(s/sby*s/sby)))"
   ]
  },
  {
   "cell_type": "code",
   "execution_count": null,
   "metadata": {
    "collapsed": true
   },
   "outputs": [],
   "source": []
  }
 ],
 "metadata": {
  "kernelspec": {
   "display_name": "Python 3",
   "language": "python",
   "name": "python3"
  },
  "language_info": {
   "codemirror_mode": {
    "name": "ipython",
    "version": 3
   },
   "file_extension": ".py",
   "mimetype": "text/x-python",
   "name": "python",
   "nbconvert_exporter": "python",
   "pygments_lexer": "ipython3",
   "version": "3.4.5"
  }
 },
 "nbformat": 4,
 "nbformat_minor": 2
}
